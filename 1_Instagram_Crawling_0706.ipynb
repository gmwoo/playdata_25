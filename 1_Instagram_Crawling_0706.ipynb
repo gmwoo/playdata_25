{
 "cells": [
  {
   "cell_type": "markdown",
   "id": "62d57445",
   "metadata": {},
   "source": [
    "# 1. 인스타그램 크롤링"
   ]
  },
  {
   "cell_type": "markdown",
   "id": "431f2cbe",
   "metadata": {},
   "source": [
    "### 1) 네이버 카페 접근하기"
   ]
  },
  {
   "cell_type": "code",
   "execution_count": 18,
   "id": "c3b7c69d",
   "metadata": {},
   "outputs": [],
   "source": [
    "from selenium import webdriver\n",
    "from selenium.webdriver.chrome.service import Service\n",
    "from selenium.webdriver.common.by import By\n",
    "path='../../driver/chromedriver.exe'\n",
    "driver = webdriver.Chrome(service=Service(path))"
   ]
  },
  {
   "cell_type": "code",
   "execution_count": 19,
   "id": "80d3d223",
   "metadata": {},
   "outputs": [],
   "source": [
    "driver.get('https:www.naver.com')"
   ]
  },
  {
   "cell_type": "markdown",
   "id": "b3808301",
   "metadata": {},
   "source": [
    "### 1-1) 네이버 홈페이지에서 네이버 카페로 접근\n",
    " * F12 후 '카페' 배너 클릭하여 우클릭 > copy > copy Xpath"
   ]
  },
  {
   "cell_type": "code",
   "execution_count": 20,
   "id": "62a9673f",
   "metadata": {},
   "outputs": [],
   "source": [
    "# 첫번째 방법\n",
    "driver.get('http:www.naver.com')\n",
    "element = driver.find_element(By.XPATH,\"\"\"//*[@id=\"shortcutArea\"]/ul/li[2]/a/span[1]\"\"\")  # By.XPATH , By.CLASS_NAME\n",
    "element.click()"
   ]
  },
  {
   "cell_type": "code",
   "execution_count": 21,
   "id": "e52987f6",
   "metadata": {},
   "outputs": [],
   "source": [
    "# 두번째 방법\n",
    "driver.get('http:www.naver.com')\n",
    "element = driver.find_element(By.CLASS_NAME,\"service_icon.type_cafe\")\n",
    "element.click()"
   ]
  },
  {
   "cell_type": "code",
   "execution_count": 5,
   "id": "784dbffb",
   "metadata": {},
   "outputs": [],
   "source": [
    "driver.close()"
   ]
  },
  {
   "cell_type": "markdown",
   "id": "a2407b5a",
   "metadata": {},
   "source": [
    "##  2) 인스타그램 접속"
   ]
  },
  {
   "cell_type": "code",
   "execution_count": 57,
   "id": "8c2e562a",
   "metadata": {},
   "outputs": [],
   "source": [
    "from selenium import webdriver\n",
    "from selenium.webdriver.chrome.service import Service\n",
    "from selenium.webdriver.common.by import By\n",
    "path='../../driver/chromedriver.exe'\n",
    "driver = webdriver.Chrome(service=Service(path))"
   ]
  },
  {
   "cell_type": "markdown",
   "id": "fbe645cc",
   "metadata": {},
   "source": [
    " * 인스타그램 로그인을 위해 계정 아이디/비번 입력이 필요"
   ]
  },
  {
   "cell_type": "code",
   "execution_count": 58,
   "id": "8d21bdf8",
   "metadata": {},
   "outputs": [],
   "source": [
    "import time\n",
    "\n",
    "# 인스타그램 접속\n",
    "driver.get('https://www.instagram.com')\n",
    "time.sleep(2)"
   ]
  },
  {
   "cell_type": "markdown",
   "id": "a6a27c85",
   "metadata": {},
   "source": [
    " * 위 코드 실행 후 인스타그램 로그인이 완료되어야 함\n",
    " * 추가로, 2단계 인증이 필요하다고 나올 경우 인증까지 완료"
   ]
  },
  {
   "cell_type": "markdown",
   "id": "b3b2dc6c",
   "metadata": {},
   "source": [
    "### 2-1) 인스타그램 검색결과 URL 만들어서 접속하기"
   ]
  },
  {
   "cell_type": "code",
   "execution_count": 59,
   "id": "8203a8ca",
   "metadata": {},
   "outputs": [],
   "source": [
    "def insta_searching(word):\n",
    "    url = 'https://www.instagram.com/explore/tags/' + word\n",
    "    return url"
   ]
  },
  {
   "cell_type": "code",
   "execution_count": 60,
   "id": "3024f354",
   "metadata": {},
   "outputs": [],
   "source": [
    "word = '울릉도'\n",
    "url = insta_searching(word)\n",
    "driver.get(url)"
   ]
  },
  {
   "cell_type": "code",
   "execution_count": 61,
   "id": "5c7a621d",
   "metadata": {},
   "outputs": [],
   "source": [
    "word = '제주도맛집'\n",
    "url = insta_searching(word)\n",
    "driver.get(url)"
   ]
  },
  {
   "cell_type": "markdown",
   "id": "4bdf362b",
   "metadata": {},
   "source": [
    "### 2-2) 첫 번째 게시물 열기"
   ]
  },
  {
   "cell_type": "code",
   "execution_count": 63,
   "id": "19ab8e01",
   "metadata": {},
   "outputs": [],
   "source": [
    "def select_first(driver):\n",
    "    first = driver.find_element(By.CSS_SELECTOR, \"div._aabd\")\n",
    "    first.click()\n",
    "    time.sleep(5)\n",
    "\n",
    "select_first(driver)"
   ]
  },
  {
   "cell_type": "markdown",
   "id": "5c1c20f0",
   "metadata": {},
   "source": [
    "### 2-3) 게시글 정보 가져오기"
   ]
  },
  {
   "cell_type": "code",
   "execution_count": 64,
   "id": "f1bf544a",
   "metadata": {},
   "outputs": [
    {
     "data": {
      "text/plain": [
       "['제주도 여행중 필수 먹킷인 흑돼지! 아직도 어디로 가실지 고민된다면 #공항그때그집 그냥 도착하자마자 여기로 가시면됩니다. 여행의 시작을 흑돼지로하면 더욱 성공적이겠죠. 공항근처 흑돼지 참 잘하는집이라 도착후 든든하게 배채워주고 여행하면 일석이조! 바다 근처에 있어서 뷰도 좋아요! 먹는내내 정신적+뱃속 힐링이 동시에 가능한곳이에요.오겹살로만 주문했는데 다음에 가면 목살도 꼭 먹어볼거에요. 고기를 주문하면 소시지랑 고사리, 새우까지 푸짐하게 준비해주십니다! 보기만해도 통통한게 안봐도 맛있는 비줠이쥬? 여기는 기본반찬까지 미쳐요,, 양념게장을 주시는데 진짜 존맛이에요. 김치찌개를 라면사리 넣어서 꼭 꼭 드시구요. 배가 아직 안찼다면 치즈 올라간 볶음밥까지 추천드립니다.▫️제주도 공항그때그집▫️제주 제주시 서해안로 352-1 ▫️11:00~22:00 수휴무 ▫️흑돼지 2인 60,000 #푸돌핀_제주#제주도여행 #제주도맛집 #제주맛집 #제주흑돼지맛집 #제주흑돼지 #제주도흑돼지 #제주도흑돼지맛집 #제주공항근처맛집 #제주공항맛집 #제주공항흑돼지 #노형맛집 #노형동맛집 #흑돼지맛집 #kpop #kfood #foodpics',\n",
       " '2023-07-05',\n",
       " ['#공항그때그집 그냥 도착하자마자 여기로 가시면됩니다. 여행의 시작을 흑돼지로하면 더욱 성공적이겠죠. 공항근처 흑돼지 참 잘하는집이라 도착후 든든하게 배채워주고 여행하면 일석이조! 바다 근처에 있어서 뷰도 좋아요! 먹는내내 정신적+뱃속 힐링이 동시에 가능한곳이에요.오겹살로만 주문했는데 다음에 가면 목살도 꼭 먹어볼거에요. 고기를 주문하면 소시지랑 고사리',\n",
       "  '#푸돌핀_제주',\n",
       "  '#제주도여행 ',\n",
       "  '#제주도맛집 ',\n",
       "  '#제주맛집 ',\n",
       "  '#제주흑돼지맛집 ',\n",
       "  '#제주흑돼지 ',\n",
       "  '#제주도흑돼지 ',\n",
       "  '#제주도흑돼지맛집 ',\n",
       "  '#제주공항근처맛집 ',\n",
       "  '#제주공항맛집 ',\n",
       "  '#제주공항흑돼지 ',\n",
       "  '#노형맛집 ',\n",
       "  '#노형동맛집 ',\n",
       "  '#흑돼지맛집 ',\n",
       "  '#kpop ',\n",
       "  '#kfood ',\n",
       "  '#foodpic']]"
      ]
     },
     "execution_count": 64,
     "metadata": {},
     "output_type": "execute_result"
    }
   ],
   "source": [
    "# 게시글 정보 가져오기\n",
    "import re\n",
    "from bs4 import BeautifulSoup\n",
    "import unicodedata\n",
    "\n",
    "def get_content(driver):\n",
    "    # 현재 페이지 html 정보 가져오기\n",
    "    html = driver.page_source\n",
    "    soup = BeautifulSoup(html, 'html.parser')\n",
    "    \n",
    "    # 본문 내용 가져오기\n",
    "    try:\n",
    "        content = soup.select('div._a9zs')[0].text\n",
    "        content = unicodedata.normalize('NFC', content)\n",
    "    except:\n",
    "        content = ' '\n",
    "    \n",
    "    #본문 내용에서 해시태그 가져오기(정규식 활용)\n",
    "    tags = re.findall(r'#[^Ws#,\\\\]+', content)\n",
    "   \n",
    "    # 작성일자 정보 가져오기\n",
    "    # time class 안에 datetime이라는 항목(년월일시분초 있음)에서 10개 string만 보겠다라는 뜻\n",
    "    date = soup.select('time._aaqe')[0]['datetime'][:10] \n",
    "    \n",
    "    # 수집한 정보 저장하기\n",
    "    data = [content, date, tags]\n",
    "    return data\n",
    "\n",
    "get_content(driver)"
   ]
  },
  {
   "cell_type": "markdown",
   "id": "3e29864e",
   "metadata": {},
   "source": [
    "### 2-4) 다음 게시글  열기"
   ]
  },
  {
   "cell_type": "code",
   "execution_count": 65,
   "id": "ef40e484",
   "metadata": {},
   "outputs": [],
   "source": [
    "def move_next(driver):\n",
    "    right = driver.find_element(By.CSS_SELECTOR, \"div._aaqg._aaqh\")\n",
    "    right.click()\n",
    "    time.sleep(4)\n",
    "move_next(driver)"
   ]
  },
  {
   "cell_type": "markdown",
   "id": "e8cf50ec",
   "metadata": {},
   "source": [
    "### 2-6) 정보 수집하기"
   ]
  },
  {
   "cell_type": "code",
   "execution_count": 71,
   "id": "eb3c5885",
   "metadata": {},
   "outputs": [],
   "source": [
    "word = \"제주도맛집\" # 검색어\n",
    "url = insta_searching(word)\n",
    "driver.get(url)\n",
    "time.sleep(7)  \n",
    "# 충분한 시간을 주어야 오류도 안나고 많은 데이터를 가져올 수 있음\n",
    "\n",
    "select_first(driver) # 첫 번째 게시글 열기\n",
    "\n",
    "results = []  # 정보 가져올 빈 리스트 선언\n",
    "target = 30\n",
    "for i in range(target):\n",
    "    try:\n",
    "        data = get_content(driver)\n",
    "        results.append(data)\n",
    "        move_next(driver)\n",
    "    except:\n",
    "        time.sleep(7)\n",
    "        move_next(driver)"
   ]
  },
  {
   "cell_type": "markdown",
   "id": "5a16ef79",
   "metadata": {},
   "source": [
    "### 2-7) 수집한 정보 저장"
   ]
  },
  {
   "cell_type": "code",
   "execution_count": 72,
   "id": "64201c40",
   "metadata": {},
   "outputs": [],
   "source": [
    "import pandas as pd\n",
    "\n",
    "results_df = pd.DataFrame(results)\n",
    "results_df.columns = ['content', 'data', 'tags']\n",
    "results_df.to_excel('../../data/jejudo_crawling.xlsx')"
   ]
  },
  {
   "cell_type": "markdown",
   "id": "81a49259",
   "metadata": {},
   "source": [
    "### 2-8) 여러 엑셀 파일의 중복을 제거한 후 통합 저장"
   ]
  },
  {
   "cell_type": "code",
   "execution_count": 52,
   "id": "97738e79",
   "metadata": {},
   "outputs": [
    {
     "name": "stderr",
     "output_type": "stream",
     "text": [
      "C:\\Users\\Playdata\\AppData\\Local\\Temp\\ipykernel_4792\\3200292893.py:10: FutureWarning: The frame.append method is deprecated and will be removed from pandas in a future version. Use pandas.concat instead.\n",
      "  jeju_insta_df = jeju_insta_df.append(temp)\n",
      "C:\\Users\\Playdata\\AppData\\Local\\Temp\\ipykernel_4792\\3200292893.py:10: FutureWarning: The frame.append method is deprecated and will be removed from pandas in a future version. Use pandas.concat instead.\n",
      "  jeju_insta_df = jeju_insta_df.append(temp)\n",
      "C:\\Users\\Playdata\\AppData\\Local\\Temp\\ipykernel_4792\\3200292893.py:10: FutureWarning: The frame.append method is deprecated and will be removed from pandas in a future version. Use pandas.concat instead.\n",
      "  jeju_insta_df = jeju_insta_df.append(temp)\n",
      "C:\\Users\\Playdata\\AppData\\Local\\Temp\\ipykernel_4792\\3200292893.py:10: FutureWarning: The frame.append method is deprecated and will be removed from pandas in a future version. Use pandas.concat instead.\n",
      "  jeju_insta_df = jeju_insta_df.append(temp)\n"
     ]
    }
   ],
   "source": [
    "jeju_insta_df = pd.DataFrame( [ ] )\n",
    "\n",
    "folder = '../../data/'\n",
    "f_list = ['1_crawling_jejudoGwanGwang.xlsx', '1_crawling_jejudoMatJip.xlsx',\n",
    "          '1_crawling_jejuMatJip.xlsx', '1_crawling_jejuYeoHang.xlsx']\n",
    "\n",
    "for fname in f_list:\n",
    "    fpath = folder + fname\n",
    "    temp = pd.read_excel(fpath)\n",
    "    jeju_insta_df = jeju_insta_df.append(temp)\n",
    "    \n",
    "jeju_insta_df.columns = ['content', 'data', 'like', 'place', 'tags']"
   ]
  },
  {
   "cell_type": "code",
   "execution_count": 55,
   "id": "6a898f4f",
   "metadata": {},
   "outputs": [],
   "source": [
    "jeju_insta_df.drop_duplicates(subset = [\"content\"], inplace=True)\n",
    "jeju_insta_df.to_excel('../../data/1_crawling_raw.xlsx', index=False)"
   ]
  },
  {
   "cell_type": "markdown",
   "id": "1e415877",
   "metadata": {},
   "source": [
    "# 문제"
   ]
  },
  {
   "cell_type": "code",
   "execution_count": 76,
   "id": "a700595e",
   "metadata": {},
   "outputs": [
    {
     "data": {
      "text/html": [
       "<div>\n",
       "<style scoped>\n",
       "    .dataframe tbody tr th:only-of-type {\n",
       "        vertical-align: middle;\n",
       "    }\n",
       "\n",
       "    .dataframe tbody tr th {\n",
       "        vertical-align: top;\n",
       "    }\n",
       "\n",
       "    .dataframe thead th {\n",
       "        text-align: right;\n",
       "    }\n",
       "</style>\n",
       "<table border=\"1\" class=\"dataframe\">\n",
       "  <thead>\n",
       "    <tr style=\"text-align: right;\">\n",
       "      <th></th>\n",
       "      <th>발주지역 및 발주국가</th>\n",
       "      <th>수주기업</th>\n",
       "      <th>설비구분</th>\n",
       "      <th>프로젝트명</th>\n",
       "      <th>발주처</th>\n",
       "      <th>수주금액</th>\n",
       "      <th>수주시기</th>\n",
       "    </tr>\n",
       "  </thead>\n",
       "  <tbody>\n",
       "    <tr>\n",
       "      <th>0</th>\n",
       "      <td>아시아 중국</td>\n",
       "      <td>엘오티베큠</td>\n",
       "      <td>기계</td>\n",
       "      <td>태양광용 건식진공펌프</td>\n",
       "      <td>Shenzhen S</td>\n",
       "      <td>30848</td>\n",
       "      <td>2023-05-01</td>\n",
       "    </tr>\n",
       "    <tr>\n",
       "      <th>1</th>\n",
       "      <td>아시아 대만</td>\n",
       "      <td>LS</td>\n",
       "      <td>기계</td>\n",
       "      <td>Greater Changhua Offshore Wind Farm</td>\n",
       "      <td>Orsted Taiwan Limited</td>\n",
       "      <td>143603</td>\n",
       "      <td>2023-05-01</td>\n",
       "    </tr>\n",
       "    <tr>\n",
       "      <th>2</th>\n",
       "      <td>중동 사우디</td>\n",
       "      <td>HD현대일렉트릭</td>\n",
       "      <td>기계</td>\n",
       "      <td>380KV급 변압기 및 리액터 18대</td>\n",
       "      <td>사우디 전력청(SEC)</td>\n",
       "      <td>66941</td>\n",
       "      <td>2023-05-01</td>\n",
       "    </tr>\n",
       "    <tr>\n",
       "      <th>3</th>\n",
       "      <td>미주 미국</td>\n",
       "      <td>우신시스템</td>\n",
       "      <td>기계</td>\n",
       "      <td>Gestamp EV 차체자동화라인</td>\n",
       "      <td>Wooshin North America, LLC</td>\n",
       "      <td>16015</td>\n",
       "      <td>2023-05-01</td>\n",
       "    </tr>\n",
       "    <tr>\n",
       "      <th>4</th>\n",
       "      <td>아시아 일본</td>\n",
       "      <td>아이씨디</td>\n",
       "      <td>기계</td>\n",
       "      <td>FPD 제조장비</td>\n",
       "      <td>Canon Tokki Corporation</td>\n",
       "      <td>11441</td>\n",
       "      <td>2023-05-01</td>\n",
       "    </tr>\n",
       "    <tr>\n",
       "      <th>...</th>\n",
       "      <td>...</td>\n",
       "      <td>...</td>\n",
       "      <td>...</td>\n",
       "      <td>...</td>\n",
       "      <td>...</td>\n",
       "      <td>...</td>\n",
       "      <td>...</td>\n",
       "    </tr>\n",
       "    <tr>\n",
       "      <th>5159</th>\n",
       "      <td>아시아 파푸아뉴기니</td>\n",
       "      <td>대우건설</td>\n",
       "      <td>Oil&amp;Gas</td>\n",
       "      <td>파푸아 뉴기니 LNG 프로젝트</td>\n",
       "      <td>Esso Highland Ltd</td>\n",
       "      <td>238900</td>\n",
       "      <td>2010-01-20</td>\n",
       "    </tr>\n",
       "    <tr>\n",
       "      <th>5160</th>\n",
       "      <td>아시아 인도</td>\n",
       "      <td>한전KPS</td>\n",
       "      <td>담수&amp;발전</td>\n",
       "      <td>Wardha 화력 발전소 O&amp;M</td>\n",
       "      <td>Wardha Power Company Pvt. Ltd</td>\n",
       "      <td>65575</td>\n",
       "      <td>2010-01-14</td>\n",
       "    </tr>\n",
       "    <tr>\n",
       "      <th>5161</th>\n",
       "      <td>중동 UAE</td>\n",
       "      <td>한국전력공사</td>\n",
       "      <td>담수&amp;발전</td>\n",
       "      <td>UAE Nuclear Energy Power Plant</td>\n",
       "      <td>Emirates Nuclear Energy Corporation</td>\n",
       "      <td>18600000</td>\n",
       "      <td>2010-01-08</td>\n",
       "    </tr>\n",
       "    <tr>\n",
       "      <th>5162</th>\n",
       "      <td>유럽 러시아</td>\n",
       "      <td>대우조선해양</td>\n",
       "      <td>해양</td>\n",
       "      <td>Arkutun Dagi GBS Topside (Fixed Platform)</td>\n",
       "      <td>미주 회사</td>\n",
       "      <td>324000</td>\n",
       "      <td>2010-01-06</td>\n",
       "    </tr>\n",
       "    <tr>\n",
       "      <th>5163</th>\n",
       "      <td>아시아 인도네시아</td>\n",
       "      <td>대우엔지니어링</td>\n",
       "      <td>담수&amp;발전</td>\n",
       "      <td>Wampu Hydroelectric Power Project</td>\n",
       "      <td>PT. Wampu Electric Power</td>\n",
       "      <td>96203</td>\n",
       "      <td>2010-01-04</td>\n",
       "    </tr>\n",
       "  </tbody>\n",
       "</table>\n",
       "<p>5164 rows × 7 columns</p>\n",
       "</div>"
      ],
      "text/plain": [
       "     발주지역 및 발주국가      수주기업     설비구분  \\\n",
       "0         아시아 중국     엘오티베큠       기계   \n",
       "1         아시아 대만        LS       기계   \n",
       "2         중동 사우디  HD현대일렉트릭       기계   \n",
       "3          미주 미국     우신시스템       기계   \n",
       "4         아시아 일본      아이씨디       기계   \n",
       "...          ...       ...      ...   \n",
       "5159  아시아 파푸아뉴기니      대우건설  Oil&Gas   \n",
       "5160      아시아 인도     한전KPS    담수&발전   \n",
       "5161      중동 UAE    한국전력공사    담수&발전   \n",
       "5162      유럽 러시아    대우조선해양       해양   \n",
       "5163   아시아 인도네시아   대우엔지니어링    담수&발전   \n",
       "\n",
       "                                          프로젝트명  \\\n",
       "0                                   태양광용 건식진공펌프   \n",
       "1           Greater Changhua Offshore Wind Farm   \n",
       "2                          380KV급 변압기 및 리액터 18대   \n",
       "3                            Gestamp EV 차체자동화라인   \n",
       "4                                      FPD 제조장비   \n",
       "...                                         ...   \n",
       "5159                           파푸아 뉴기니 LNG 프로젝트   \n",
       "5160                          Wardha 화력 발전소 O&M   \n",
       "5161             UAE Nuclear Energy Power Plant   \n",
       "5162  Arkutun Dagi GBS Topside (Fixed Platform)   \n",
       "5163          Wampu Hydroelectric Power Project   \n",
       "\n",
       "                                      발주처      수주금액        수주시기  \n",
       "0                              Shenzhen S     30848  2023-05-01  \n",
       "1                   Orsted Taiwan Limited    143603  2023-05-01  \n",
       "2                            사우디 전력청(SEC)     66941  2023-05-01  \n",
       "3              Wooshin North America, LLC     16015  2023-05-01  \n",
       "4                 Canon Tokki Corporation     11441  2023-05-01  \n",
       "...                                   ...       ...         ...  \n",
       "5159                    Esso Highland Ltd    238900  2010-01-20  \n",
       "5160        Wardha Power Company Pvt. Ltd     65575  2010-01-14  \n",
       "5161  Emirates Nuclear Energy Corporation  18600000  2010-01-08  \n",
       "5162                                미주 회사    324000  2010-01-06  \n",
       "5163             PT. Wampu Electric Power     96203  2010-01-04  \n",
       "\n",
       "[5164 rows x 7 columns]"
      ]
     },
     "execution_count": 76,
     "metadata": {},
     "output_type": "execute_result"
    }
   ],
   "source": [
    "import pandas as pd\n",
    "html = 'http://kopia.or.kr/info/statistics.php'\n",
    "df=pd.read_html(html)\n",
    "df[0].to_excel('../../data/quiz.xlsx')\n",
    "df[0]"
   ]
  }
 ],
 "metadata": {
  "kernelspec": {
   "display_name": "Python 3 (ipykernel)",
   "language": "python",
   "name": "python3"
  },
  "language_info": {
   "codemirror_mode": {
    "name": "ipython",
    "version": 3
   },
   "file_extension": ".py",
   "mimetype": "text/x-python",
   "name": "python",
   "nbconvert_exporter": "python",
   "pygments_lexer": "ipython3",
   "version": "3.10.9"
  }
 },
 "nbformat": 4,
 "nbformat_minor": 5
}
